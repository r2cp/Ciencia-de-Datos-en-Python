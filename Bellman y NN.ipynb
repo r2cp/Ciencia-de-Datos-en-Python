{
 "cells": [
  {
   "cell_type": "markdown",
   "metadata": {},
   "source": [
    "**Universidad Galileo**\n",
    "\n",
    "**Ciencia de Datos en Python**\n",
    "\n",
    "**Nombre: Rodrigo Chang**\n",
    "\n",
    "**Carné: 190000625**\n",
    "\n",
    "# Multiplicación y aritmética matricial"
   ]
  },
  {
   "cell_type": "code",
   "execution_count": 1,
   "metadata": {},
   "outputs": [],
   "source": [
    "import numpy as np"
   ]
  },
  {
   "cell_type": "markdown",
   "metadata": {},
   "source": [
    "## Ecuación de Bellman"
   ]
  },
  {
   "attachments": {},
   "cell_type": "markdown",
   "metadata": {},
   "source": [
    "![Ecuacion de Bellman](https://rebornhugo.github.io/assets/images/post_images/%E5%BC%BA%E5%8C%96%E5%AD%A6%E4%B9%A02/bellman%20equation2.PNG)"
   ]
  },
  {
   "cell_type": "code",
   "execution_count": 5,
   "metadata": {},
   "outputs": [
    {
     "data": {
      "text/plain": [
       "array([10.,  2.,  5.])"
      ]
     },
     "execution_count": 5,
     "metadata": {},
     "output_type": "execute_result"
    }
   ],
   "source": [
    "V = np.array([0,0,0]) # valor inicial de V(s)\n",
    "R = np.array([10,2,5]) # vector de recompensas\n",
    "P = np.array([[0.5,0.25,0.25],\n",
    "              [0.2,0.40,0.40],\n",
    "              [0.80,0.10,0.10]])  # matriz de transición\n",
    "gamma = 0.99\n",
    "\n",
    "V = R + gamma*np.matmul(P, V)\n",
    "V"
   ]
  },
  {
   "cell_type": "markdown",
   "metadata": {},
   "source": [
    "Al iterar varias veces, tenemos los siguientes resultados:"
   ]
  },
  {
   "cell_type": "code",
   "execution_count": 7,
   "metadata": {
    "scrolled": true
   },
   "outputs": [
    {
     "name": "stdout",
     "output_type": "stream",
     "text": [
      "Iteración 0:  [79.94021159 70.00971159 76.87071159]\n",
      "Iteración 1:  [85.92330948 75.99280948 82.85380948]\n",
      "Iteración 2:  [91.84657638 81.91607638 88.77707638]\n",
      "Iteración 3:  [97.71061062 87.78011062 94.64111062]\n",
      "Iteración 4:  [103.51600451  93.58550451 100.44650451]\n",
      "Iteración 5:  [109.26334447  99.33284447 106.19384447]\n",
      "Iteración 6:  [114.95321102 105.02271102 111.88371102]\n",
      "Iteración 7:  [120.58617891 110.65567891 117.51667891]\n",
      "Iteración 8:  [126.16281712 116.23231712 123.09331712]\n",
      "Iteración 9:  [131.68368895 121.75318895 128.61418895]\n"
     ]
    }
   ],
   "source": [
    "for i in range(10):\n",
    "    V = R + gamma*np.matmul(P, V)\n",
    "    print((\"Iteración %d: \" % i), V)\n"
   ]
  },
  {
   "cell_type": "code",
   "execution_count": null,
   "metadata": {},
   "outputs": [],
   "source": []
  },
  {
   "cell_type": "markdown",
   "metadata": {},
   "source": [
    "## Redes neuronales"
   ]
  },
  {
   "cell_type": "code",
   "execution_count": 10,
   "metadata": {},
   "outputs": [],
   "source": [
    "def sigmoid(x): \n",
    "    #convertir los valores de x al rango de 0 a 1\n",
    "    return 1/(1 + np.exp(-x))"
   ]
  },
  {
   "cell_type": "markdown",
   "metadata": {},
   "source": [
    "![Red neuronal a implementar](http://i.imgur.com/UNlffE1.png)"
   ]
  },
  {
   "cell_type": "code",
   "execution_count": 18,
   "metadata": {},
   "outputs": [
    {
     "name": "stdout",
     "output_type": "stream",
     "text": [
      "[0.69269553]\n"
     ]
    }
   ],
   "source": [
    "# Entrada de prueba\n",
    "X = np.array([1,1])\n",
    "\n",
    "def nn_fn(x):\n",
    "    # Definición de las neuronas\n",
    "    Phi_1 = np.array([[0.712,0.355,0.268], [0.112,0.855,0.468]])\n",
    "    Phi_2 = np.array([[0.116], [0.329], [0.708]])\n",
    "    \n",
    "    # Cómputo de la red neuronal\n",
    "    L1 = sigmoid(np.matmul(x, Phi_1))\n",
    "    L2 = sigmoid(np.matmul(L1, Phi_2))\n",
    "    return L2\n",
    "\n",
    "# Resultado de prueba\n",
    "print(nn_fn(X))"
   ]
  },
  {
   "cell_type": "code",
   "execution_count": 19,
   "metadata": {},
   "outputs": [
    {
     "name": "stdout",
     "output_type": "stream",
     "text": [
      "[[0.70244573]\n",
      " [0.66259284]\n",
      " [0.75933678]\n",
      " [0.75973948]\n",
      " [0.75802295]\n",
      " [0.6739704 ]\n",
      " [0.75954693]\n",
      " [0.76005845]\n",
      " [0.75952743]\n",
      " [0.76005845]]\n"
     ]
    }
   ],
   "source": [
    "# Entrada requerida\n",
    "X = np.array([\n",
    "    [0.1,2],\n",
    "    [0.3,0.45],\n",
    "    [5,9],\n",
    "    [12,6],\n",
    "    [7,5],\n",
    "    [0.3,0.8],\n",
    "    [12,5],\n",
    "    [100,200],\n",
    "    [7,8],\n",
    "    [300,1500]])\n",
    "\n",
    "print(nn_fn(X))"
   ]
  }
 ],
 "metadata": {
  "kernelspec": {
   "display_name": "Python 3",
   "language": "python",
   "name": "python3"
  },
  "language_info": {
   "codemirror_mode": {
    "name": "ipython",
    "version": 3
   },
   "file_extension": ".py",
   "mimetype": "text/x-python",
   "name": "python",
   "nbconvert_exporter": "python",
   "pygments_lexer": "ipython3",
   "version": "3.7.2"
  }
 },
 "nbformat": 4,
 "nbformat_minor": 2
}
