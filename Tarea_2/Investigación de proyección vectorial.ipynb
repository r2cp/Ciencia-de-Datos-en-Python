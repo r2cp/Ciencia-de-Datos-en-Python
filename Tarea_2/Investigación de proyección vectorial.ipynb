{
 "cells": [
  {
   "cell_type": "markdown",
   "metadata": {},
   "source": [
    "**Universidad Galileo**\n",
    "\n",
    "**Ciencia de Datos en Python**\n",
    "\n",
    "**Nombre: Rodrigo Chang**"
   ]
  },
  {
   "cell_type": "markdown",
   "metadata": {},
   "source": [
    "# Proyección vectorial"
   ]
  },
  {
   "cell_type": "markdown",
   "metadata": {},
   "source": [
    "### Que es proyección vectorial?\n",
    "Es una operación entre dos vectores en la cual se encuentra cómo se ve un vector en la dirección del otro. Si se habla de la proyección del vector b sobre el vector a, entonces utilizamos la notación $\\mathrm{proj}_\\mathbf{a} \\mathbf{b}$, y esto sería encontrar un vector $\\mathrm{proj}_\\mathbf{a} \\mathbf{b}$ que indica cómo se ve el vector $\\mathbf{b}$ en la dirección del vector $\\mathbf{a}$."
   ]
  },
  {
   "cell_type": "markdown",
   "metadata": {},
   "source": [
    "### Definir una ufunc para calcular proyección vectorial sobre vectores de Numpy"
   ]
  },
  {
   "cell_type": "markdown",
   "metadata": {},
   "source": [
    "La proyección vectorial de $\\mathbf{b}$ sobre $\\mathbf{a}$ estaría dada por: $$ \\mathrm{proj}_\\mathbf{a} \\mathbf{b} = \\left( \\frac{\\mathbf{a}\\cdot\\mathbf{b}}{|\\mathbf{a}|} \\right) \\frac{\\mathbf{a}}{|\\mathbf{a}|} =  \\frac{\\mathbf{a}\\cdot\\mathbf{b}}{|\\mathbf{a}|^2}\\mathbf{a} $$ Note que el primer paréntesis es un escalar, que representa qué tanto es el producto escalar respecto a la magnitud de $\\mathbf{a}$ y luego se multiplica por el vector unitario de $\\mathbf{a}$. Por lo tanto, $\\mathrm{proj}_\\mathbf{a} \\mathbf{b}$ es un **vector**."
   ]
  },
  {
   "cell_type": "code",
   "execution_count": 2,
   "metadata": {},
   "outputs": [],
   "source": [
    "import numpy as np"
   ]
  },
  {
   "cell_type": "code",
   "execution_count": 3,
   "metadata": {},
   "outputs": [],
   "source": [
    "def proj(b, a): \n",
    "    \"\"\"\n",
    "    Esta función devuelve el vector de proyección de b sobre a\n",
    "    \"\"\"\n",
    "    return (np.inner(a, b) / np.inner(a, a))*a"
   ]
  },
  {
   "cell_type": "markdown",
   "metadata": {},
   "source": [
    "### Como interpretamos la proyección vectorial?\n",
    "La proyección vectorial se puede interpretar como la \"mejor aproximación\" del vector b sobre el subespacio en el cual vive el vector a. Puede pensarse que el vector b hace una \"sombra\" sobre el vector a y que dicha sombra indica cómo se ve el vector b sobre la dirección del vector a."
   ]
  },
  {
   "cell_type": "markdown",
   "metadata": {},
   "source": [
    "### Algunos vectores de ejemplo y su interpretación\n",
    "Supongamos que $\\mathbf{b}$ es un vector del espacio $\\mathbb{R}^2$, por lo tanto, $\\mathbf{b} = (b_1, b_2)$. Supongamos que $\\mathbf{a} = (a_1, 0)$ es un vector en el subespacio formado por la recta horizontal $y=0$ en el plano $\\mathbb{R}^2$. Así, las proyecciones de $\\mathbf{b}$ sobre $\\mathbf{a}$ serían exactamente la sombra de $\\mathbf{b}$ sobre el eje horizontal del plano cartesiano. Así, esperamos que si $b_2\\rightarrow 0$, entonces $\\mathrm{proj}_\\mathbf{a} \\mathbf{b} \\approx \\mathbf{b}$ sobre el eje $X$, es decir, $\\mathrm{proj}_\\mathbf{a} \\mathbf{b}$ es la mejor representación de $\\mathbf{b}$ en el subespacio de $\\mathbf{a}$."
   ]
  },
  {
   "cell_type": "code",
   "execution_count": 4,
   "metadata": {},
   "outputs": [
    {
     "name": "stdout",
     "output_type": "stream",
     "text": [
      "[1. 0.]\n"
     ]
    }
   ],
   "source": [
    "# Si b = (1,1) y a = (1, 0)\n",
    "b = np.array([1,1])\n",
    "a = np.array([1,0])\n",
    "print(proj(b,a))"
   ]
  },
  {
   "cell_type": "markdown",
   "metadata": {},
   "source": [
    "Esto devuelve (1, 0), pues prácticamente le quita su componente vertical al vector (1,1). En este ejemplo no importará el valor de $a_1$, la proyección siempre nos dará la componente horizontal del vector $\\mathbf{b}$."
   ]
  },
  {
   "cell_type": "code",
   "execution_count": 5,
   "metadata": {},
   "outputs": [
    {
     "data": {
      "text/plain": [
       "array([1., 0.])"
      ]
     },
     "execution_count": 5,
     "metadata": {},
     "output_type": "execute_result"
    }
   ],
   "source": [
    "a = np.array([0.0000001,0])\n",
    "proj(b,a)"
   ]
  },
  {
   "cell_type": "code",
   "execution_count": 6,
   "metadata": {},
   "outputs": [
    {
     "data": {
      "text/plain": [
       "array([1., 0.])"
      ]
     },
     "execution_count": 6,
     "metadata": {},
     "output_type": "execute_result"
    }
   ],
   "source": [
    "a = np.array([100000, 0])\n",
    "proj(b,a)"
   ]
  },
  {
   "cell_type": "markdown",
   "metadata": {},
   "source": [
    "Si por ejemplo, queremos ver cómo se ve el vector $\\mathbf{b}$ sobre la linea de 45 grados que atraviesa el origen del plano cartesiano, haríamos: "
   ]
  },
  {
   "cell_type": "code",
   "execution_count": 7,
   "metadata": {},
   "outputs": [
    {
     "data": {
      "text/plain": [
       "array([6., 6.])"
      ]
     },
     "execution_count": 7,
     "metadata": {},
     "output_type": "execute_result"
    }
   ],
   "source": [
    "b = np.array([7, 5])\n",
    "a = np.array([1, 1])\n",
    "proj(b,a)"
   ]
  },
  {
   "cell_type": "markdown",
   "metadata": {},
   "source": [
    "Esto representaría que la mejor representación del vector $\\mathbf{b}=(7,5)$ en el subespacio formado por el vector $\\mathbf{a}= (a_1, a_1)$ es el vector $(6,6)$. "
   ]
  },
  {
   "cell_type": "markdown",
   "metadata": {},
   "source": [
    "### Aplicación en ciencia de datos: el algoritmo de Análisis de Componentes Principales\n",
    "\n",
    "Una aplicación famosa de la proyección vectorial en Ciencia de Datos es el algoritmo de Análisis de Componentes Principales (en inglés, Principal Component Analysis o PCA) que ayuda a reducir la dimensionalidad de un conjunto de datos. Por ejemplo, podría ser complicado correr modelos de regresión y clasificación utilizando 1,000 regresoras, pero con el algoritmo de PCA, esta cantidad de regresoras puede reducirse si utilizamos aquellas que más expliquen a la variable que queremos explicar, posiblemente porque muchas de las regresoras presentan una relación lineal entre sí."
   ]
  },
  {
   "attachments": {},
   "cell_type": "markdown",
   "metadata": {},
   "source": [
    "<img src=\"https://s3.amazonaws.com/files.dezyre.com/images/Tutorials/Principal+Component+Analysis.jpg\">"
   ]
  },
  {
   "cell_type": "markdown",
   "metadata": {},
   "source": [
    "Por ejemplo, en la imagen, el conjunto de puntos de $\\mathbb{R}^3$ está muy cerca de un plano, entonces se intenta reducir las 3 coordenadas de cada punto a coordenadas que se especifiquen en términos de los vectores $u^{(1)}$ y $u^{(2)}$. El algoritmo de PCA lo que hace es intentar encontrar estos vectores $u^{(1)}$ y $u^{(2)}$."
   ]
  },
  {
   "cell_type": "code",
   "execution_count": null,
   "metadata": {},
   "outputs": [],
   "source": []
  }
 ],
 "metadata": {
  "celltoolbar": "Raw Cell Format",
  "kernelspec": {
   "display_name": "Python 3",
   "language": "python",
   "name": "python3"
  },
  "language_info": {
   "codemirror_mode": {
    "name": "ipython",
    "version": 3
   },
   "file_extension": ".py",
   "mimetype": "text/x-python",
   "name": "python",
   "nbconvert_exporter": "python",
   "pygments_lexer": "ipython3",
   "version": "3.7.2"
  }
 },
 "nbformat": 4,
 "nbformat_minor": 2
}
