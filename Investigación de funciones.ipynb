{
 "cells": [
  {
   "cell_type": "markdown",
   "metadata": {},
   "source": [
    "**Universidad Galileo**\n",
    "\n",
    "**Ciencia de Datos en Python**\n",
    "\n",
    "**Nombre: Rodrigo Chang**"
   ]
  },
  {
   "cell_type": "markdown",
   "metadata": {},
   "source": [
    "### Funciones en Python\n",
    "\n",
    "En Python, y muchos otros lenguajes de programación, las funciones son bloques de código reutilizable que pueden utilizarse una o más veces dentro de un programa. Ayudan a separar la lógica de las tareas, permitiendo adoptar un esquema de \"divide y conquista\" para resolver los problemas en programación. En Python 3: \n",
    "\n",
    "* Las funciones empiezan con la palabra reservada 'def', seguido del nombre de la función. \n",
    "* Si la función utiliza parámetros, estos van entre paréntesis después del nombre de la función. A estos se les puede definir un valor por defecto, en caso de que el usuario no los envíe al llamar a la función.\n",
    "* Es posible añadir una documentación sobre la función como la primera sentencia de una función. Algo así como el javadoc en Java.\n",
    "* Si la función retorna algún valor procesado, se debe utilizar la instrucción return y el nombre de la variable para devolver su valor.\n",
    "* Las funciones pueden no devolver ningún valor, en este caso, comúnmente se les llama \"procedimientos\" en vez de funciones, sin embargo, esto es equivalente a que la función retorna un valor None\n",
    "\n",
    "A continuación un ejemplo:\n"
   ]
  },
  {
   "cell_type": "code",
   "execution_count": 50,
   "metadata": {},
   "outputs": [],
   "source": [
    "# Definimos la función suma\n",
    "def suma(a,b):\n",
    "    \"Esta función suma los valores a y b que recibe como argumentos\"\n",
    "    return a+b"
   ]
  },
  {
   "cell_type": "code",
   "execution_count": 51,
   "metadata": {
    "scrolled": false
   },
   "outputs": [
    {
     "name": "stdout",
     "output_type": "stream",
     "text": [
      "Help on function suma in module __main__:\n",
      "\n",
      "suma(a, b)\n",
      "    Esta función suma los valores a y b que recibe como argumentos\n",
      "\n"
     ]
    }
   ],
   "source": [
    "# Para revisar la documentación de una función podemos utilizar el comando:\n",
    "help(suma)"
   ]
  },
  {
   "cell_type": "code",
   "execution_count": 52,
   "metadata": {},
   "outputs": [
    {
     "data": {
      "text/plain": [
       "2"
      ]
     },
     "execution_count": 52,
     "metadata": {},
     "output_type": "execute_result"
    }
   ],
   "source": [
    "# Para llamar a la función simplemente la invocamos por su nombre:\n",
    "suma(1,1)"
   ]
  },
  {
   "cell_type": "code",
   "execution_count": 53,
   "metadata": {},
   "outputs": [
    {
     "data": {
      "text/plain": [
       "8.0"
      ]
     },
     "execution_count": 53,
     "metadata": {},
     "output_type": "execute_result"
    }
   ],
   "source": [
    "suma(3.0, 5)"
   ]
  },
  {
   "cell_type": "markdown",
   "metadata": {},
   "source": [
    "### Parámetros posicionales\n",
    "\n",
    "Por defecto, los parámetros deben darse a la función en el orden en que estos fueron definidos. Por ejemplo: consideremos la función: "
   ]
  },
  {
   "cell_type": "code",
   "execution_count": 54,
   "metadata": {},
   "outputs": [
    {
     "data": {
      "text/plain": [
       "[3, -3]"
      ]
     },
     "execution_count": 54,
     "metadata": {},
     "output_type": "execute_result"
    }
   ],
   "source": [
    "# Definición de la función resta\n",
    "def resta(a,b):\n",
    "    return a-b\n",
    "\n",
    "# Llamamos a la función con los parámetros en diferentes posiciones.\n",
    "[resta(5,2), resta(2,5)]"
   ]
  },
  {
   "cell_type": "markdown",
   "metadata": {},
   "source": [
    "En general, el orden de los parámetros **sí** importa cuando invocamos a la función. Ignorar esto puede llevar a los programas a tener un funcionamiento inesperado, o bien, a no funcionar del todo.\n",
    "\n",
    "Si queremos enviar los parámetros en orden diferente, debemos utilizar el método de **parámetros nombrados**."
   ]
  },
  {
   "cell_type": "markdown",
   "metadata": {},
   "source": [
    "### Parámetros nombrados\n",
    "\n",
    "Para llamar a la función y utilizar otro orden para enviar los parámetros, debemos indicar a qué parámetros nos estamos refiriendo para enviarle los valores. Por ejemplo, en nuestra función de resta:"
   ]
  },
  {
   "cell_type": "code",
   "execution_count": 55,
   "metadata": {},
   "outputs": [
    {
     "data": {
      "text/plain": [
       "[3, 3]"
      ]
     },
     "execution_count": 55,
     "metadata": {},
     "output_type": "execute_result"
    }
   ],
   "source": [
    "# Estas dos formas diferentes de invocar a la función producen el mismo resultado\n",
    "[resta(a=5, b=2), resta(5,2)]"
   ]
  },
  {
   "cell_type": "code",
   "execution_count": 56,
   "metadata": {},
   "outputs": [
    {
     "data": {
      "text/plain": [
       "[-3, -3]"
      ]
     },
     "execution_count": 56,
     "metadata": {},
     "output_type": "execute_result"
    }
   ],
   "source": [
    "# La siguiente puede ser otra forma de llamar a la función:\n",
    "[resta(b=5, a=2), resta(2,5)]"
   ]
  },
  {
   "cell_type": "markdown",
   "metadata": {},
   "source": [
    "Como se ve, es posible llamar a la función con otro orden en sus parámetros, pero estos deben ir nombrados. Esto será muy útil cuando las funciones reciban muchos argumentos, pero varios de ellos tengan valores por defecto y solo necesitemos indicarle algunos más para poder invocarla."
   ]
  },
  {
   "cell_type": "markdown",
   "metadata": {},
   "source": [
    "### Retorno de múltiples valores\n",
    "\n",
    "En Python 3, las funciones pueden devolver uno o más valores. Esto es útil cuando una función nos ayuda a procesar información y nos devuelve uno o más resultados a partir de esta.\n",
    "\n",
    "Consideremos, por ejemplo, la función:"
   ]
  },
  {
   "cell_type": "code",
   "execution_count": 57,
   "metadata": {},
   "outputs": [],
   "source": [
    "# Función calcularSumaResta\n",
    "def calcularSumaResta(a,b):\n",
    "    \"Esta función devuelve la suma y la resta, respectivamente, de los argumentos a y b.\"\n",
    "    return [a+b, a-b]"
   ]
  },
  {
   "cell_type": "markdown",
   "metadata": {},
   "source": [
    "Notemos que ahora, al invocar a la función, tenemos como resultado dos valores devueltos:"
   ]
  },
  {
   "cell_type": "code",
   "execution_count": 58,
   "metadata": {},
   "outputs": [
    {
     "data": {
      "text/plain": [
       "[7, 3]"
      ]
     },
     "execution_count": 58,
     "metadata": {},
     "output_type": "execute_result"
    }
   ],
   "source": [
    "calcularSumaResta(5,2)"
   ]
  },
  {
   "cell_type": "markdown",
   "metadata": {},
   "source": [
    "### Funciones como objetos y como parámetros de otras funciones\n",
    "\n",
    "En Python 3, las funciones son objetos de tipo 'function' y pueden servir como argumentos para otras funciones. Veamos el siguiente ejemplo:"
   ]
  },
  {
   "cell_type": "code",
   "execution_count": 59,
   "metadata": {},
   "outputs": [
    {
     "data": {
      "text/plain": [
       "function"
      ]
     },
     "execution_count": 59,
     "metadata": {},
     "output_type": "execute_result"
    }
   ],
   "source": [
    "# El tipo de una función es 'function'\n",
    "type(calcularSumaResta)"
   ]
  },
  {
   "cell_type": "code",
   "execution_count": 60,
   "metadata": {},
   "outputs": [
    {
     "data": {
      "text/plain": [
       "7"
      ]
     },
     "execution_count": 60,
     "metadata": {},
     "output_type": "execute_result"
    }
   ],
   "source": [
    "# Definamos la funcion 'operar' para que reciba una función y dos valores como argumentos.\n",
    "# Notemos que dentro de la función operar, la función fn (como argumento) se invoca con los argumentos a y b.\n",
    "def operar(fn, a, b):\n",
    "    return fn(a,b)\n",
    "\n",
    "# Si quisiéramos calcular la suma de los valores a y b:\n",
    "operar(suma, 5, 2)"
   ]
  },
  {
   "cell_type": "code",
   "execution_count": 61,
   "metadata": {},
   "outputs": [
    {
     "data": {
      "text/plain": [
       "3"
      ]
     },
     "execution_count": 61,
     "metadata": {},
     "output_type": "execute_result"
    }
   ],
   "source": [
    "# Si quisiéramos calcular la resta de los valores a y b, haríamos:\n",
    "operar(resta, 5, 2)"
   ]
  },
  {
   "cell_type": "markdown",
   "metadata": {},
   "source": [
    "Es importante que cuando una función se utilice como argumento, nos aseguremos que de acuerdo con la lógica de nuestro programa, siempre reciba los parámetros en el orden y con la semántica correcta."
   ]
  },
  {
   "cell_type": "markdown",
   "metadata": {},
   "source": [
    "### Funciones anónimas o *lambda*\n",
    "\n",
    "Estas funciones son llamadas anónimas porque no se declaran utilizando la sintaxis que hemos visto anteriormente (con la palabra reservada 'def'). En vez de eso, se utiliza la palabra reservada 'lambda' para indicar que vamos a definir una pequeña función anónima. Tomemos en cuenta que:\n",
    "\n",
    "* Las funciones anónimas pueden tomar cualquier número de argumentos, pero solamente pueden retornar un valor en forma de expresión. No pueden contener otros comandos o expresiones múltiples.\n",
    "\n",
    "* Las funciones lambda tienen su propio espacio de memoria, y por lo tanto, no pueden acceder a otras variables o expresiones fuera de las que están listadas en sus parámetros y en el ambiente global.\n",
    "\n",
    "A continuación, veamos un ejemplo:"
   ]
  },
  {
   "cell_type": "code",
   "execution_count": 62,
   "metadata": {},
   "outputs": [
    {
     "data": {
      "text/plain": [
       "[7, 3, 10]"
      ]
     },
     "execution_count": 62,
     "metadata": {},
     "output_type": "execute_result"
    }
   ],
   "source": [
    "# Definimos una función anónima para el producto de dos valores\n",
    "mult = lambda a, b : a * b\n",
    "\n",
    "# Y podemos llamar a la función como a cualquier otra\n",
    "[suma(5, 2), resta(5, 2), mult(5, 2)]"
   ]
  },
  {
   "cell_type": "markdown",
   "metadata": {},
   "source": [
    "También podemos hacer que la función anónima acceda a alguna otra variable en el entorno global, por ejemplo:"
   ]
  },
  {
   "cell_type": "code",
   "execution_count": 63,
   "metadata": {},
   "outputs": [
    {
     "data": {
      "text/plain": [
       "7.5"
      ]
     },
     "execution_count": 63,
     "metadata": {},
     "output_type": "execute_result"
    }
   ],
   "source": [
    "# Otra variable en el entorno global\n",
    "t = 1.5\n",
    "\n",
    "# Definimos nuestra función anónima de división:\n",
    "div_t = lambda a, b : (a / b) * t\n",
    "\n",
    "# La invocamos, esto nos debería de dar (10 / 2) * 1.5 = 7.5\n",
    "div_t(10, 2)"
   ]
  }
 ],
 "metadata": {
  "kernelspec": {
   "display_name": "Python 3",
   "language": "python",
   "name": "python3"
  },
  "language_info": {
   "codemirror_mode": {
    "name": "ipython",
    "version": 3
   },
   "file_extension": ".py",
   "mimetype": "text/x-python",
   "name": "python",
   "nbconvert_exporter": "python",
   "pygments_lexer": "ipython3",
   "version": "3.6.5"
  }
 },
 "nbformat": 4,
 "nbformat_minor": 2
}
