{
 "cells": [
  {
   "cell_type": "markdown",
   "metadata": {},
   "source": [
    "**Universidad Galileo**\n",
    "\n",
    "**Ciencia de Datos en Python**\n",
    "\n",
    "**Nombre: Rodrigo Chang**"
   ]
  },
  {
   "cell_type": "code",
   "execution_count": 1,
   "metadata": {},
   "outputs": [],
   "source": [
    "import validaciones"
   ]
  },
  {
   "cell_type": "markdown",
   "metadata": {},
   "source": [
    "# Ejercicios Python"
   ]
  },
  {
   "cell_type": "markdown",
   "metadata": {},
   "source": [
    "## Zen of Python\n",
    "\n",
    "Lee una vez mas el Zen of Python antes de iniciar con la tarea"
   ]
  },
  {
   "cell_type": "code",
   "execution_count": 70,
   "metadata": {},
   "outputs": [
    {
     "name": "stdout",
     "output_type": "stream",
     "text": [
      "The Zen of Python, by Tim Peters\n",
      "\n",
      "Beautiful is better than ugly.\n",
      "Explicit is better than implicit.\n",
      "Simple is better than complex.\n",
      "Complex is better than complicated.\n",
      "Flat is better than nested.\n",
      "Sparse is better than dense.\n",
      "Readability counts.\n",
      "Special cases aren't special enough to break the rules.\n",
      "Although practicality beats purity.\n",
      "Errors should never pass silently.\n",
      "Unless explicitly silenced.\n",
      "In the face of ambiguity, refuse the temptation to guess.\n",
      "There should be one-- and preferably only one --obvious way to do it.\n",
      "Although that way may not be obvious at first unless you're Dutch.\n",
      "Now is better than never.\n",
      "Although never is often better than *right* now.\n",
      "If the implementation is hard to explain, it's a bad idea.\n",
      "If the implementation is easy to explain, it may be a good idea.\n",
      "Namespaces are one honking great idea -- let's do more of those!\n"
     ]
    }
   ],
   "source": [
    "import this"
   ]
  },
  {
   "cell_type": "markdown",
   "metadata": {},
   "source": [
    "## 1 - XOR\n",
    "\n",
    "En la siguiente celda crea una funcion para la compuerta logica XOR \n",
    "\n",
    "<img src=\"assets/xor.png\" width=\"400\">\n"
   ]
  },
  {
   "cell_type": "code",
   "execution_count": 71,
   "metadata": {},
   "outputs": [],
   "source": [
    "def xor(a,b):\n",
    "    \"\"\"\n",
    "    Esta funcion recibe dos valores booleanos, ejemplo xor(1, 0) o True y False\n",
    "    y retorna 0 o 1 como resultado de la operacion logica XOR\n",
    "    \"\"\"\n",
    "    # tu codigo aqui\n",
    "    return (a and (not b)) or ((not a) and b)"
   ]
  },
  {
   "cell_type": "code",
   "execution_count": 72,
   "metadata": {},
   "outputs": [
    {
     "data": {
      "text/plain": [
       "1"
      ]
     },
     "execution_count": 72,
     "metadata": {},
     "output_type": "execute_result"
    }
   ],
   "source": [
    "xor(0 , 1) "
   ]
  },
  {
   "cell_type": "code",
   "execution_count": 73,
   "metadata": {},
   "outputs": [
    {
     "data": {
      "text/plain": [
       "0"
      ]
     },
     "execution_count": 73,
     "metadata": {},
     "output_type": "execute_result"
    }
   ],
   "source": [
    "xor(0 , 0)"
   ]
  },
  {
   "cell_type": "code",
   "execution_count": 74,
   "metadata": {},
   "outputs": [
    {
     "data": {
      "text/plain": [
       "True"
      ]
     },
     "execution_count": 74,
     "metadata": {},
     "output_type": "execute_result"
    }
   ],
   "source": [
    "xor(True , False)"
   ]
  },
  {
   "cell_type": "markdown",
   "metadata": {},
   "source": [
    "### Pruebas  Automaticas\n",
    "\n",
    "Todas las pruebas deben funcionar para obetener los puntos del ejercicio."
   ]
  },
  {
   "cell_type": "code",
   "execution_count": 75,
   "metadata": {},
   "outputs": [
    {
     "name": "stdout",
     "output_type": "stream",
     "text": [
      "Prueba 1\n",
      "Prueba 1 [CORRECTA]\n",
      "Prueba 2\n",
      "Prueba 2 [CORRECTA]\n"
     ]
    }
   ],
   "source": [
    "validaciones.xor_function(xor)"
   ]
  },
  {
   "cell_type": "markdown",
   "metadata": {},
   "source": [
    "## 2 - Sumando N series\n",
    "\n",
    "Tenemos una secuencia cuyo $n^{th}$ es:\n",
    "\\begin{equation*}\n",
    "\\ T_n = n^2 - (n-1)^2\n",
    "\\end{equation*}\n",
    "\n",
    "Hay que evaluar las series:\n",
    "\\begin{equation*}\n",
    "\\ S_n = T_1 + T_2 + ... + T_n\n",
    "\\end{equation*}\n",
    "\n",
    "\n",
    "**Instrucciones**\n",
    "En la siguiente celda en la funcion summingSeries debemos **retornar** en valor de $S_n$, tenemos como entrada n\n",
    "\n",
    "**Ejemplo 1:**\n",
    "\n",
    "Si la entrada es 2\n",
    "\n",
    "Salida:\n",
    "4\n",
    "\n",
    "Explicacion:\n",
    "\n",
    "$T_1 = 1$\n",
    "\n",
    "$T_2 = 3$\n",
    "\n",
    "$S_2 = T_1 + T_2$\n",
    "\n",
    "$S_2 = 4 $\n",
    "\n",
    "\n",
    "\n",
    "**Tip :**\n",
    "Antes te implementar $S_n$ la solución, analicemos algebraicamente el problema para encontrar una solución equivalente optima.\n"
   ]
  },
  {
   "cell_type": "markdown",
   "metadata": {},
   "source": [
    "## Solución\n",
    "\n",
    "Resulta que si expandimos el binomio en $T_n$, tenemos que $$T_n = 2n-1$$\n",
    "\n",
    "Luego, como $S_n = T_1 + T_2 + \\ldots + T_n = \\sum_{i=1}^{n} T_i = \\sum_{i=1}^{n} (2i-1)$. Resolviendo la sumatoria, tenemos que \n",
    "$$ S_n = n^2 $$. "
   ]
  },
  {
   "cell_type": "code",
   "execution_count": 76,
   "metadata": {},
   "outputs": [],
   "source": [
    "def summatoriaSerie(n):\n",
    "    \"\"\"\n",
    "    La funcion recibe como parametro n y retorna el valor se la serie\n",
    "    \"\"\"\n",
    "    # tu codigo aqui\n",
    "    # La función de sumatoria de S_n se puede reescribir como S_n = n*n\n",
    "    return n**2"
   ]
  },
  {
   "cell_type": "markdown",
   "metadata": {},
   "source": [
    "#### 2.1 - Ciclos\n",
    "\n",
    "Crea un ciclo for que imprima el resultado de la funcion **summingSeries** desde 1 hasta 10"
   ]
  },
  {
   "cell_type": "code",
   "execution_count": 77,
   "metadata": {},
   "outputs": [
    {
     "name": "stdout",
     "output_type": "stream",
     "text": [
      "Resultado de summingSeries hasta n =  1  =  1\n",
      "Resultado de summingSeries hasta n =  2  =  4\n",
      "Resultado de summingSeries hasta n =  3  =  9\n",
      "Resultado de summingSeries hasta n =  4  =  16\n",
      "Resultado de summingSeries hasta n =  5  =  25\n",
      "Resultado de summingSeries hasta n =  6  =  36\n",
      "Resultado de summingSeries hasta n =  7  =  49\n",
      "Resultado de summingSeries hasta n =  8  =  64\n",
      "Resultado de summingSeries hasta n =  9  =  81\n",
      "Resultado de summingSeries hasta n =  10  =  100\n"
     ]
    }
   ],
   "source": [
    "for i in range(1,11):\n",
    "    print(\"Resultado de summingSeries hasta n = \", i, \" = \", summatoriaSerie(i) )"
   ]
  },
  {
   "cell_type": "markdown",
   "metadata": {},
   "source": [
    "### Pruebas  Automaticas\n",
    "\n",
    "Todas las pruebas deben funcionar para obetener los puntos del ejercicio.\n",
    "\n",
    "##### Importante :\n",
    "En este ejercicio se evalua que la funcion sea optima, el tiempo de ejecucion tiene que ser el menor posible, se va a evaluar el resultado correcto y el tiempo de ejecucion, si en alguna de las pruebas obtienes **[FALLO: TIMEOUT]** la funcion no es optima debes cambiarla hasta que todas las pruebas pasen"
   ]
  },
  {
   "cell_type": "code",
   "execution_count": 78,
   "metadata": {},
   "outputs": [
    {
     "name": "stdout",
     "output_type": "stream",
     "text": [
      "Prueba 1\n",
      "Prueba 1[CORRECTA]\n",
      "Prueba 2\n",
      "Prueba 2[CORRECTA]\n",
      "Prueba 3\n",
      "Prueba 3[CORRECTA]\n",
      "Prueba 4\n",
      "Prueba 4[CORRECTA]\n",
      "Prueba 5\n",
      "Prueba 5[CORRECTA]\n",
      "Prueba 6\n",
      "Prueba 6[CORRECTA]\n"
     ]
    }
   ],
   "source": [
    "validaciones.summingSeries_function(summatoriaSerie)"
   ]
  },
  {
   "cell_type": "markdown",
   "metadata": {},
   "source": [
    "## 3 - Factores Primos\n",
    "\n",
    "Para cada $n$ queremos obtener el conteo maximo de numeros primos unicos en en rango inclusivo $[1, n]$,\n",
    "y retornar el valor del conteo en una nueva linea\n",
    "\n",
    "**Nota:** Recuerda que un numero primo solo es divisible por el mismo y que 1 no es un numero primo\n",
    "\n",
    "##### Ejemplos:\n",
    "\n",
    "###### Ejemplo 1\n",
    "Entrada: 1\n",
    "\n",
    "Salida esperada: 0\n",
    "\n",
    "Explicacion: El numero maximo de factores primos unicos en el rango inclusivo $[1,1]$ es $0$, porque $1$ no es un numero primo.\n",
    "\n",
    "###### Ejemplo 2\n",
    "Entrada: 3\n",
    "\n",
    "Salida esperada: 1\n",
    "\n",
    "Explicacion: El numero maximo de factores primos unicos en el rango inclusivo $[1,3]$ es $1$, porque el numero $3$ tiene 1 factor primo unico (el mismo) \n",
    "\n",
    "###### Ejemplo 3\n",
    "Entrada: 500\n",
    "\n",
    "Salida esperada: 4\n",
    "\n",
    "Explicacion: El numero maximo de factores primos unicos en el rango inclusivo $[1,500]$ es $4$, porque el producto de los primeros cuatro numeros primos unicos es $2 \\times 3 \\times 5 \\times 7 = 210$ y no hay ningun numero primo unico que multiplicado por el resultado sea $\t\\leqslant 500$\n",
    "\n",
    "\n",
    "\n",
    "#### Tip: \n",
    "Utiliza la funcion `range()` de python\n"
   ]
  },
  {
   "cell_type": "code",
   "execution_count": 79,
   "metadata": {
    "scrolled": false
   },
   "outputs": [
    {
     "name": "stdout",
     "output_type": "stream",
     "text": [
      "1 6\n",
      "2 30\n",
      "3 210\n",
      "4 2310\n",
      "5 30030\n",
      "6 510510\n",
      "7 9699690\n",
      "8 223092870\n",
      "9 6469693230\n",
      "10 200560490130\n",
      "11 7420738134810\n",
      "12 304250263527210\n",
      "13 13082761331670030\n",
      "14 614889782588491410\n",
      "15 32589158477190044730\n",
      "16 1922760350154212639070\n",
      "17 117288381359406970983270\n",
      "18 7858321551080267055879090\n",
      "19 557940830126698960967415390\n",
      "20 40729680599249024150621323470\n",
      "21 3217644767340672907899084554130\n",
      "22 267064515689275851355624017992790\n",
      "23 23768741896345550770650537601358310\n",
      "24 2305567963945518424753102147331756070\n",
      "25 232862364358497360900063316880507363070\n",
      "26 23984823528925228172706521638692258396210\n",
      "27 2566376117594999414479597815340071648394470\n",
      "28 279734996817854936178276161872067809674997230\n",
      "29 31610054640417607788145206291543662493274686990\n",
      "30 4014476939333036189094441199026045136645885247730\n",
      "31 525896479052627740771371797072411912900610967452630\n",
      "32 72047817630210000485677936198920432067383702541010310\n",
      "33 10014646650599190067509233131649940057366334653200433090\n",
      "34 1492182350939279320058875736615841068547583863326864530410\n",
      "35 225319534991831177328890236228992001350685163362356544091910\n",
      "36 35375166993717494840635767087951744212057570647889977422429870\n",
      "37 5766152219975951659023630035336134306565384015606066319856068810\n",
      "38 962947420735983927056946215901134429196419130606213075415963491270\n",
      "39 166589903787325219380851695350896256250980509594874862046961683989710\n",
      "40 29819592777931214269172453467810429868925511217482600306406141434158090\n",
      "41 5397346292805549782720214077673687806275517530364350655459511599582614290\n",
      "42 1030893141925860008499560888835674370998623848299590975192766715520279329390\n",
      "43 198962376391690981640415251545285153602734402721821058212203976095413910572270\n",
      "44 39195588149163123383161804554421175259738677336198748467804183290796540382737190\n",
      "45 7799922041683461553249199106329813876687996789903550945093032474868511536164700810\n"
     ]
    }
   ],
   "source": [
    "# Guardamos algunos números primos para ver cómo se comporta el producto del primer hasta el n-ésimo primo.\n",
    "listaPrimos=[2, 3, 5, 7, 11, 13, 17, 19, 23, 29, 31, 37, 41, 43, 47, 53, 59, 61, 67, 71, 73, 79, 83, 89, 97, 101, 103, 107, 109, 113, 127, 131, 137, 139, 149, 151, 157, 163, 167, 173, 179, 181, 191, 193, 197, 199];\n",
    "\n",
    "# Inicializamos el producto\n",
    "res = listaPrimos[0];\n",
    "\n",
    "# Vamos viendo cómo evoluciona el producto de los primeros 46 números primos\n",
    "for i in range(1,len(listaPrimos)):\n",
    "    res =  res * listaPrimos[i];\n",
    "    print(i, res)"
   ]
  },
  {
   "cell_type": "markdown",
   "metadata": {},
   "source": [
    "Como vemos, este producto es bastante grande, y podría servir (por ahora) para los propósitos de nuestra función."
   ]
  },
  {
   "cell_type": "code",
   "execution_count": 80,
   "metadata": {},
   "outputs": [],
   "source": [
    "def conteoPrimos(n):\n",
    "    \"\"\"\n",
    "    Esta funcion recibe como parametro n y \n",
    "    retorna el conteo maximo de numeros primos unicos\n",
    "    \"\"\"\n",
    "    # tu codigo aqui\n",
    "    conteo = 0;\n",
    "    res = listaPrimos[0];\n",
    "    \n",
    "    for i in range(1, len(listaPrimos)): \n",
    "        if (res > n):\n",
    "            return conteo;\n",
    "        \n",
    "        res = res * listaPrimos[i];\n",
    "        conteo += 1;"
   ]
  },
  {
   "cell_type": "markdown",
   "metadata": {},
   "source": [
    "### Pruebas"
   ]
  },
  {
   "cell_type": "code",
   "execution_count": 81,
   "metadata": {},
   "outputs": [
    {
     "data": {
      "text/plain": [
       "0"
      ]
     },
     "execution_count": 81,
     "metadata": {},
     "output_type": "execute_result"
    }
   ],
   "source": [
    "conteoPrimos(1)"
   ]
  },
  {
   "cell_type": "code",
   "execution_count": 82,
   "metadata": {
    "scrolled": true
   },
   "outputs": [
    {
     "data": {
      "text/plain": [
       "4"
      ]
     },
     "execution_count": 82,
     "metadata": {},
     "output_type": "execute_result"
    }
   ],
   "source": [
    "conteoPrimos(500)"
   ]
  },
  {
   "cell_type": "markdown",
   "metadata": {},
   "source": [
    "### Otra versión\n",
    "\n",
    "El problema con nuestra función anterior, es que depende de tener una lista de números primos, a continuación se presenta una implementación alternativa, en la cual esta lista es generada hasta donde se necesite para poder obtener los primos únicos."
   ]
  },
  {
   "cell_type": "code",
   "execution_count": 83,
   "metadata": {},
   "outputs": [],
   "source": [
    "def conteoPrimos(n):\n",
    "    def esPrimo(n):\n",
    "        for i in range(2,n):\n",
    "            if n % i == 0:\n",
    "                return False;\n",
    "        return True;\n",
    "\n",
    "    if n == 1: \n",
    "        return 0;\n",
    "    elif n <= 3:\n",
    "        return 1;\n",
    "    else:\n",
    "        res = 1;\n",
    "        cont = 0;\n",
    "\n",
    "        for i, elem in enumerate(range(2, n)):\n",
    "            if esPrimo(elem):\n",
    "                res *= elem;\n",
    "                cont += 1;\n",
    "                if res > n:\n",
    "                    return cont-1;\n",
    "    "
   ]
  },
  {
   "cell_type": "markdown",
   "metadata": {},
   "source": [
    "### Pruebas"
   ]
  },
  {
   "cell_type": "code",
   "execution_count": 84,
   "metadata": {},
   "outputs": [
    {
     "data": {
      "text/plain": [
       "0"
      ]
     },
     "execution_count": 84,
     "metadata": {},
     "output_type": "execute_result"
    }
   ],
   "source": [
    "conteoPrimos(1)"
   ]
  },
  {
   "cell_type": "code",
   "execution_count": 85,
   "metadata": {},
   "outputs": [
    {
     "data": {
      "text/plain": [
       "4"
      ]
     },
     "execution_count": 85,
     "metadata": {},
     "output_type": "execute_result"
    }
   ],
   "source": [
    "conteoPrimos(500)"
   ]
  },
  {
   "cell_type": "markdown",
   "metadata": {},
   "source": [
    "### Pruebas  Automaticas\n",
    "\n",
    "Todas las pruebas deben funcionar para obetener los puntos del ejercicio.\n",
    "\n",
    "##### Importante :\n",
    "En este ejercicio se evalua que la funcion sea optima, el tiempo de ejecucion tiene que ser el menor posible, se va a evaluar el resultado correcto y el tiempo de ejecucion, si en alguna de las pruebas obtienes **[FALLO: TIMEOUT]** la funcion no es optima debes cambiarla hasta que todas las pruebas pasen"
   ]
  },
  {
   "cell_type": "code",
   "execution_count": 86,
   "metadata": {
    "scrolled": true
   },
   "outputs": [
    {
     "name": "stdout",
     "output_type": "stream",
     "text": [
      "Prueba 1\n",
      "Prueba 1[CORRECTA]\n",
      "Prueba 2\n",
      "Prueba 2[CORRECTA]\n",
      "Prueba 3\n",
      "Prueba 3[CORRECTA]\n",
      "Prueba 4\n",
      "Prueba 4[CORRECTA]\n",
      "Prueba 5\n",
      "Prueba 5[CORRECTA]\n",
      "Prueba 6\n",
      "Prueba 6[CORRECTA]\n",
      "Prueba 7\n",
      "Prueba 7[CORRECTA]\n",
      "Prueba 8\n",
      "Prueba 8[CORRECTA]\n",
      "Prueba 9\n",
      "Prueba 9[CORRECTA]\n",
      "Prueba 10\n",
      "Prueba 10[CORRECTA]\n",
      "Prueba 11\n",
      "Prueba 11[CORRECTA]\n",
      "Prueba 12\n",
      "Prueba 12[CORRECTA]\n"
     ]
    }
   ],
   "source": [
    "validaciones.primeCount_function(conteoPrimos)"
   ]
  },
  {
   "cell_type": "markdown",
   "metadata": {},
   "source": [
    "## 4 - Metodo de Euler\n",
    "\n",
    "El metodo de Euler se utiliza para aproximar la solucion particular de una ecuacion diferencial dado un valor inicial. Con esta informacion se sabe que la grafica de esa solucion pasa a traves del punto $(x_0,y_0)$ y tiene una pendiente $F(x_0,y_0)$ en ese punto, esto da un punto de partida para aproximar la solucion.\n",
    "\n",
    "A partir del punto inicial, se sigue en la direccion indicada por la pendiente. Mediante un pequeño paso $h$, se mueve a lo largo de la recta tangente hasta llegar al punto $(x_1,y_1)$ donde:\n",
    "\\begin{equation*}\n",
    "\\ x_1 = x_0 + h       \\\\\n",
    "\\ y_1 = y_0 + hF(x_0,y_0)\\\\\n",
    "\\end{equation*}\n",
    "\n",
    "\n",
    "<img src=\"assets/Euler.png\" width=\"350\">\n",
    "\n",
    "Como se muestra en la figura se considera $(x_1,y_1)$ como un nuevo punto inicial.\n",
    "\n",
    "Los valores de $x$ son:\n",
    "\\begin{equation*}\n",
    "\\ x_1 = x_0 + h       \\\\\n",
    "\\ x_2 = x_1 + h       \\\\\n",
    "\\    .                \\\\\n",
    "\\    .                \\\\\n",
    "\\    .                \\\\\n",
    "\\ x_n = x_{n-1} + h   \\\\\n",
    "\\end{equation*}\n",
    "\n",
    "\n",
    "Los valores de $y$ son:\n",
    "\\begin{equation*}\n",
    "\\ y_1 = y_0 + hF(x_0,y_0)\\\\\n",
    "\\ y_1 = y_1 + hF(x_1,y_1)\\\\\n",
    "\\       . \\\\\n",
    "\\       . \\\\\n",
    "\\       . \\\\\n",
    "\\ y_n = y_{n-1} + hF(x_{n-1},y_{n-1})\\\\\n",
    "\\end{equation*}\n",
    "\n",
    "\n",
    "#### Problema 4\n",
    "El ejecicio consiste en implementar la funcion *euler_metod* esta funcion recibe como parametro el \n",
    "* punto inicial $x_0$\n",
    "* punto inicial $y_0$\n",
    "* Paso $h$ \n",
    "* numero de iteraciones $n$ \n",
    "* La equacion diferencial que queremos aproximar, esta funcion tambien recibe los parametros $x$ y $y$\n",
    "* La funcion de la solucion exacta que tambien tambien recibe los parametros $x$ y $y$\n",
    "\n",
    "La funcion debe retornar el valor de $y_n$ y el error\n",
    "$error=|y - y_n|$ "
   ]
  },
  {
   "cell_type": "code",
   "execution_count": 2,
   "metadata": {},
   "outputs": [],
   "source": [
    "import math "
   ]
  },
  {
   "cell_type": "code",
   "execution_count": 6,
   "metadata": {},
   "outputs": [],
   "source": [
    "def euler_method(x,y,h,n, diff_eq, func):\n",
    "    \"\"\"\n",
    "    Parametros x, y punto inicial, logitud del paso h , n numero de iteraciones,\n",
    "    diff_eq la equacion diferencial y func la funcion de la solucion exacta\n",
    "    Retorna y y el error\n",
    "    \"\"\"\n",
    "    # tu codigo aqui\n",
    "    for i in range(1, n+1):\n",
    "        # Actualizar los valores de x e y.\n",
    "        x = x + h;\n",
    "        y = y + h*diff_eq(x,y)\n",
    "        \n",
    "        # Calcular el error\n",
    "        error = abs(func(x) - y) \n",
    "        \n",
    "        # Mostrar un mensaje de estado\n",
    "        print(\"x_%d = %0.4f, y_%d = %0.4f;  error = %0.4f\" % (i, x, i, y, error))\n",
    "        \n",
    "    # Devuelve el valor final para y, además devuelve el error en la última iteración\n",
    "    return y, error\n",
    "   \n",
    "        "
   ]
  },
  {
   "cell_type": "markdown",
   "metadata": {},
   "source": [
    "### Ejemplo\n",
    "\n",
    "Queremos aproximar la solucion particular de la ecuacion diferencial\n",
    "\\begin{equation*}\n",
    "\\ \\frac{\\partial y}{\\partial x} = -2y \\\\\n",
    "\\end{equation*}\n",
    "Donde $y(0) = 4$ vamos a unsa un de $h=0.1$\n",
    "\n",
    "Tambien vamos a calcular el error en este caso podemos verificar el error  con la solucion exacta:\n",
    "\\begin{equation*}\n",
    "\\ y = 4e^{-2x} \\\\\n",
    "\\end{equation*}"
   ]
  },
  {
   "cell_type": "code",
   "execution_count": 4,
   "metadata": {},
   "outputs": [],
   "source": [
    "### Implementando las funciones del ejemplo\n",
    "def y_prime(x, y):\n",
    "    return -2*y\n",
    "\n",
    "def y(x):\n",
    "    return 4 * math.exp(-2*x)"
   ]
  },
  {
   "cell_type": "code",
   "execution_count": 5,
   "metadata": {},
   "outputs": [
    {
     "name": "stdout",
     "output_type": "stream",
     "text": [
      "x_1 = 0.1000, y_1 = 3.2000;  error = 0.0749\n",
      "x_2 = 0.2000, y_2 = 2.5600;  error = 0.1213\n",
      "x_3 = 0.3000, y_3 = 2.0480;  error = 0.1472\n",
      "x_4 = 0.4000, y_4 = 1.6384;  error = 0.1589\n",
      "x_5 = 0.5000, y_5 = 1.3107;  error = 0.1608\n",
      "x_6 = 0.6000, y_6 = 1.0486;  error = 0.1562\n",
      "x_7 = 0.7000, y_7 = 0.8389;  error = 0.1475\n",
      "x_8 = 0.8000, y_8 = 0.6711;  error = 0.1365\n",
      "x_9 = 0.9000, y_9 = 0.5369;  error = 0.1243\n",
      "x_10 = 1.0000, y_10 = 0.4295;  error = 0.1118\n"
     ]
    },
    {
     "data": {
      "text/plain": [
       "(0.4294967296000001, 0.1118444033464508)"
      ]
     },
     "execution_count": 5,
     "metadata": {},
     "output_type": "execute_result"
    }
   ],
   "source": [
    "\"\"\"\n",
    "Llamamos a la funcion de Euler\n",
    "euler_method(0,4,0.1,10, y_prime,y)\n",
    "Parametros :\n",
    "x = 0\n",
    "y = 4\n",
    "d = 0.1\n",
    "n = 10\n",
    "diff_eq = y_prime\n",
    "func = y\n",
    "\"\"\"\n",
    "\n",
    "euler_method(0, 4, 0.1, 10, y_prime, y)"
   ]
  },
  {
   "cell_type": "markdown",
   "metadata": {},
   "source": [
    "### Solucion:\n",
    "\n",
    "Utiliza esta tabla como guia para validar que tu funcion este correcta,\n",
    "y reemplaza los valores que faltan con la salida de tu funcion.\n",
    "\n",
    "| x     | 0 | 0.1         | 0.2    | 0.4    | 0.6    | 0.8    | 1            |\n",
    "|-------|---|-------------|--------|--------|--------|--------|--------------|\n",
    "| y     | 4 | 3.2749      | 2.6813 | 1.7973 | 1.2048 | 0.8076 | 0.5413       |\n",
    "| $y_n$ | 4 | **3.200**       | 2.56   | 1.6384 | 1.0486 | 0.6711 | **0.4295**       |\n",
    "| error | 0 | **0.0749**   | 0.1213 | 0.1589 | 0.1562 | 0.1365 | **0.1118** |"
   ]
  },
  {
   "cell_type": "markdown",
   "metadata": {},
   "source": [
    "### 4.1 Probando la implementacion con una aplicación real de data science\n",
    "\n",
    "Podemos utilizar ecuaciones diferenciales  como modelos matemáticos de fenónemos reales, por ejemplo si llegas a trabajar como data scientist para una farmaceutica  puede que interese analizar la desintegración radioactiva de cierta sustancia y como esto cambia en el tiempo\n",
    "#### Desintegracion Radiactiva\n",
    "\n",
    "$A$ es la cantidad de sustancia en el tiempo $t$, la derivada $\\frac{\\partial A}{\\partial t}$ es rapidez a la que se desintegran los nucleos de una sustancia.\n",
    "\n",
    "Queremos aproximar la solucion particular de la ecuacion diferencial\n",
    "\\begin{equation*}\n",
    "\\ \\frac{\\partial A}{\\partial t} =  -0.56A \\\\\n",
    "\\end{equation*}\n",
    "Donde $A(0) = 1$ vamos a un tamaño de $h=0.1$\n",
    "\n",
    "Tambien vamos a calcular el error en este caso podemos verificar el error  con la solucion exacta:\n",
    "\\begin{equation*}\n",
    "\\ A(t) = e^{-0.56t} \\\\\n",
    "\\end{equation*}\n",
    "\n",
    "**Nota** En este caso sencillo, poseemos la solución exacta a la ED por lo cual no se necesita una solución aproximada , pero en aplicaciones y proyectos reales muchas veces la solución exacta no se posee, o es muy difícil de calcular y recurrimos a soluciones aproximadas por computadora , para este ejercicio el saber la solución exacta nos sirve para medir la exactitud de nuestra solución aproximada."
   ]
  },
  {
   "cell_type": "code",
   "execution_count": 91,
   "metadata": {},
   "outputs": [],
   "source": [
    "### Implementando las funciones para el ejemplo de desintegración radiactiva\n",
    "def A_prime(t, A):\n",
    "    return -0.56 * A\n",
    "\n",
    "def A(t):\n",
    "    return math.exp(-0.56*t)"
   ]
  },
  {
   "cell_type": "code",
   "execution_count": 92,
   "metadata": {},
   "outputs": [
    {
     "name": "stdout",
     "output_type": "stream",
     "text": [
      "x_1 = 0.1000, y_1 = 0.9440;  error = 0.0015\n",
      "x_2 = 0.2000, y_2 = 0.8911;  error = 0.0029\n",
      "x_3 = 0.3000, y_3 = 0.8412;  error = 0.0041\n",
      "x_4 = 0.4000, y_4 = 0.7941;  error = 0.0052\n",
      "x_5 = 0.5000, y_5 = 0.7497;  error = 0.0061\n",
      "x_6 = 0.6000, y_6 = 0.7077;  error = 0.0070\n",
      "x_7 = 0.7000, y_7 = 0.6680;  error = 0.0077\n",
      "x_8 = 0.8000, y_8 = 0.6306;  error = 0.0083\n",
      "x_9 = 0.9000, y_9 = 0.5953;  error = 0.0088\n",
      "x_10 = 1.0000, y_10 = 0.5620;  error = 0.0092\n",
      "x_11 = 1.1000, y_11 = 0.5305;  error = 0.0096\n",
      "x_12 = 1.2000, y_12 = 0.5008;  error = 0.0099\n",
      "x_13 = 1.3000, y_13 = 0.4728;  error = 0.0101\n",
      "x_14 = 1.4000, y_14 = 0.4463;  error = 0.0103\n",
      "x_15 = 1.5000, y_15 = 0.4213;  error = 0.0104\n",
      "x_16 = 1.6000, y_16 = 0.3977;  error = 0.0105\n",
      "x_17 = 1.7000, y_17 = 0.3754;  error = 0.0105\n",
      "x_18 = 1.8000, y_18 = 0.3544;  error = 0.0105\n",
      "x_19 = 1.9000, y_19 = 0.3346;  error = 0.0105\n",
      "x_20 = 2.0000, y_20 = 0.3158;  error = 0.0105\n",
      "x_21 = 2.1000, y_21 = 0.2981;  error = 0.0104\n",
      "x_22 = 2.2000, y_22 = 0.2814;  error = 0.0103\n",
      "x_23 = 2.3000, y_23 = 0.2657;  error = 0.0101\n",
      "x_24 = 2.4000, y_24 = 0.2508;  error = 0.0100\n",
      "x_25 = 2.5000, y_25 = 0.2368;  error = 0.0098\n",
      "x_26 = 2.6000, y_26 = 0.2235;  error = 0.0097\n",
      "x_27 = 2.7000, y_27 = 0.2110;  error = 0.0095\n",
      "x_28 = 2.8000, y_28 = 0.1992;  error = 0.0093\n",
      "x_29 = 2.9000, y_29 = 0.1880;  error = 0.0091\n",
      "x_30 = 3.0000, y_30 = 0.1775;  error = 0.0089\n"
     ]
    },
    {
     "data": {
      "text/plain": [
       "(0.17748425378021818, 0.00888972225919163)"
      ]
     },
     "execution_count": 92,
     "metadata": {},
     "output_type": "execute_result"
    }
   ],
   "source": [
    "\"\"\"\n",
    "Llamamos a la función para aplicar el método de Euler\n",
    "\n",
    "euler_method(0,4,0.1,10, y_prime,y)\n",
    "\n",
    "Parámetros :\n",
    "x = 0\n",
    "y = 4\n",
    "h = 0.1\n",
    "n = 10\n",
    "diff_eq = y_prime\n",
    "func = y\n",
    "\"\"\"\n",
    "\n",
    "euler_method(0, 1, 0.1, 30, A_prime, A)"
   ]
  },
  {
   "cell_type": "markdown",
   "metadata": {},
   "source": [
    "Como vemos, conforme transcurre el tiempo, la sustancia radiactiva decae poco a poco. Se esperaría que en un tiempo muy largo, la cantidad de sustancia $A \\rightarrow 0$"
   ]
  },
  {
   "cell_type": "markdown",
   "metadata": {},
   "source": [
    "## 5 - Rotacion de listas hacia la izquierda\n",
    "\n",
    "Una rotacion a la izquierda en una lista mueve cada elemento de la lista una vez hacia la izquierda. Por ejemplo, si hacemos $1$ rotacion en en el arreglo $[1,2,3,4,5]$, el arreglo resultante seria $[2,3,4,5,1]$\n",
    "\n",
    "#### Descipcion de la funcion\n",
    "Dado un arreglo $a$ de $n$ integers y un numero $d$ de rotaciones, realizar $d$ rotaciones hacia la izquierda. La funcion debe retorner el arreglo re-ordenado.\n",
    "\n",
    "**rotIzquierda** tiene los siguientes parametros:\n",
    "\n",
    "* $a$ Un arreglo de numeros entreros.\n",
    "* $d$ numero de rotaciones."
   ]
  },
  {
   "cell_type": "code",
   "execution_count": 93,
   "metadata": {},
   "outputs": [],
   "source": [
    "def rotIzquierda(a, d):\n",
    "    # tu codigo aqui\n",
    "    # Quitar el número de rotaciones en exceso del largo de la lista (por ejemplo: si la lista es [1,2,3,4,5], \n",
    "    #    tiene 5 elementos, y daría lo mismo rotar 7 veces hacia la izquierda, que 2 veces (7 % 5 = 2), pues \n",
    "    #    al rotar 5 veces sobre esta lista, esta regresa a su estado original\n",
    "    d = d % len(a);\n",
    "    \n",
    "    # Devolver la lista\n",
    "    return a[d:] + a[:d]"
   ]
  },
  {
   "cell_type": "code",
   "execution_count": 94,
   "metadata": {},
   "outputs": [
    {
     "data": {
      "text/plain": [
       "[5, 1, 2, 3, 4]"
      ]
     },
     "execution_count": 94,
     "metadata": {},
     "output_type": "execute_result"
    }
   ],
   "source": [
    "rotIzquierda([1, 2, 3, 4, 5], 4)\n",
    "# Resultado: [5, 1, 2, 3, 4]"
   ]
  },
  {
   "cell_type": "markdown",
   "metadata": {},
   "source": [
    "### Pruebas  Automaticas\n",
    "\n",
    "Todas las pruebas deben funcionar para obetener los puntos del ejercicio.\n",
    "\n",
    "##### Importante :\n",
    "En este ejercicio se evalua que la funcion sea optima, el tiempo de ejecucion tiene que ser el menor posible, se va a evaluar el resultado correcto y el tiempo de ejecucion, si en alguna de las pruebas obtienes **[FALLO: TIMEOUT]** la funcion no es optima debes cambiarla hasta que todas las pruebas pasen\n",
    "\n",
    "#### TIP:\n",
    "Utiliza **slice** en el array para optimizar la funcion"
   ]
  },
  {
   "cell_type": "code",
   "execution_count": 95,
   "metadata": {},
   "outputs": [
    {
     "name": "stdout",
     "output_type": "stream",
     "text": [
      "Prueba 1\n",
      "Prueba 1[CORRECTA]\n",
      "Prueba 2\n",
      "Prueba 2[CORRECTA]\n",
      "Prueba 3\n",
      "Prueba 3[CORRECTA]\n"
     ]
    }
   ],
   "source": [
    "validaciones.rotIzquierda_function(rotIzquierda)"
   ]
  },
  {
   "cell_type": "code",
   "execution_count": null,
   "metadata": {},
   "outputs": [],
   "source": []
  }
 ],
 "metadata": {
  "kernelspec": {
   "display_name": "Python 3",
   "language": "python",
   "name": "python3"
  },
  "language_info": {
   "codemirror_mode": {
    "name": "ipython",
    "version": 3
   },
   "file_extension": ".py",
   "mimetype": "text/x-python",
   "name": "python",
   "nbconvert_exporter": "python",
   "pygments_lexer": "ipython3",
   "version": "3.7.1"
  }
 },
 "nbformat": 4,
 "nbformat_minor": 2
}
