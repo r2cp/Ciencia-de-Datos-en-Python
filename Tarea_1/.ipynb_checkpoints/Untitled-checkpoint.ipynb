{
 "cells": [
  {
   "cell_type": "code",
   "execution_count": 1,
   "metadata": {},
   "outputs": [
    {
     "data": {
      "text/plain": [
       "[2, 5, 9, 13, 19]"
      ]
     },
     "execution_count": 1,
     "metadata": {},
     "output_type": "execute_result"
    }
   ],
   "source": [
    "n = 20;\n",
    "lista = list(range(2,n))\n",
    "\n",
    "prime_list = []\n",
    "\n",
    "for i,elem in enumerate(lista):\n",
    "    if not(elem in prime_list):\n",
    "        # Guardarlo como primo\n",
    "        prime_list.append(elem);\n",
    "        \n",
    "        # Sacar el elemento\n",
    "        #lista.pop(i)\n",
    "        \n",
    "        # Borrar los múltiplos de este número de la lista\n",
    "        for idx, j in enumerate(lista):\n",
    "            if j % elem == 0: \n",
    "                lista.pop(idx)\n",
    "                \n",
    "                \n",
    "prime_list"
   ]
  },
  {
   "cell_type": "code",
   "execution_count": 47,
   "metadata": {},
   "outputs": [],
   "source": [
    "n = 5000;\n",
    "res = 2;\n",
    "prime_list = [2];\n",
    "\n",
    "# Generar la lista de impares hasta n\n",
    "l = list(range(3, n, 2));\n",
    "\n",
    "while (res <= n):\n",
    "    # Si el número en la posición i no está en la lista de primos, entonces\n",
    "    if not(l[0] in prime_list):\n",
    "        # Agregarlo a la lista\n",
    "        prime_list.append(l[0]);\n",
    "        res *= l[0];\n",
    "        \n",
    "        # Quitar sus múltiplos del resto de la lista\n",
    "        l = quitarMultiplos(l[0], l);"
   ]
  },
  {
   "cell_type": "code",
   "execution_count": 48,
   "metadata": {},
   "outputs": [
    {
     "data": {
      "text/plain": [
       "[2, 3, 5, 7, 11, 13]"
      ]
     },
     "execution_count": 48,
     "metadata": {},
     "output_type": "execute_result"
    }
   ],
   "source": [
    "prime_list"
   ]
  },
  {
   "cell_type": "code",
   "execution_count": 28,
   "metadata": {},
   "outputs": [
    {
     "data": {
      "text/plain": [
       "[3, 5, 7, 9, 11, 13, 15, 17, 19]"
      ]
     },
     "execution_count": 28,
     "metadata": {},
     "output_type": "execute_result"
    }
   ],
   "source": [
    "list(range(3, 20, 2))"
   ]
  },
  {
   "cell_type": "code",
   "execution_count": 31,
   "metadata": {},
   "outputs": [],
   "source": [
    "a = list(range(3,20,2));"
   ]
  },
  {
   "cell_type": "code",
   "execution_count": 33,
   "metadata": {},
   "outputs": [
    {
     "data": {
      "text/plain": [
       "[3, 5, 7, 9, 11, 13, 15, 17, 19]"
      ]
     },
     "execution_count": 33,
     "metadata": {},
     "output_type": "execute_result"
    }
   ],
   "source": [
    "a"
   ]
  },
  {
   "cell_type": "code",
   "execution_count": 32,
   "metadata": {},
   "outputs": [],
   "source": [
    "def quitarMultiplos(n, lista):\n",
    "    # Crear una copia\n",
    "    laux = lista[:];\n",
    "    \n",
    "    i = 0;\n",
    "    while (i < len(laux)):\n",
    "        if (laux[i] % n == 0):\n",
    "            laux.pop(i);\n",
    "        i += 1;\n",
    "    return laux"
   ]
  },
  {
   "cell_type": "code",
   "execution_count": 36,
   "metadata": {},
   "outputs": [
    {
     "data": {
      "text/plain": [
       "[7, 11, 13, 17, 19]"
      ]
     },
     "execution_count": 36,
     "metadata": {},
     "output_type": "execute_result"
    }
   ],
   "source": [
    "b = quitarMultiplos(5, b)\n",
    "b"
   ]
  },
  {
   "cell_type": "code",
   "execution_count": 27,
   "metadata": {},
   "outputs": [
    {
     "data": {
      "text/plain": [
       "[11, 13, 17, 19, 23, 29, 31, 37, 41, 43, 47]"
      ]
     },
     "execution_count": 27,
     "metadata": {},
     "output_type": "execute_result"
    }
   ],
   "source": [
    "quitarMultiplos(7, a)"
   ]
  },
  {
   "cell_type": "code",
   "execution_count": 114,
   "metadata": {},
   "outputs": [],
   "source": [
    "def conteoPrimos(n):\n",
    "    \"\"\"\n",
    "    Esta funcion recibe como parametro n y \n",
    "    retorna el conteo maximo de numeros primos unicos\n",
    "    \"\"\"\n",
    "    # tu codigo aqui\n",
    "    def quitarMultiplos(n, lista):\n",
    "        # Crear una copia\n",
    "        laux = lista[:];\n",
    "\n",
    "        i = 0;\n",
    "        while (i < len(laux)):\n",
    "            if (laux[i] % n == 0):\n",
    "                laux.pop(i);\n",
    "            i += 1;\n",
    "        return laux\n",
    "    \n",
    "    if n == 1: \n",
    "        return 0;\n",
    "    elif n == 2 or n == 3: \n",
    "        return 1;\n",
    "    else\n",
    "        res = 2;\n",
    "        prime_list = [2];\n",
    "\n",
    "        # Generar la lista de impares hasta n\n",
    "        l = list(range(3, n, 2));\n",
    "\n",
    "        while (res <= n):\n",
    "            # Si el número en la posición i no está en la lista de primos, entonces\n",
    "            if not(l[0] in prime_list):\n",
    "                # Agregarlo a la lista\n",
    "                prime_list.append(l[0]);\n",
    "                res *= l[0];\n",
    "\n",
    "                # Quitar sus múltiplos del resto de la lista\n",
    "                l = quitarMultiplos(l[0], l);\n",
    "\n",
    "        return len(prime_list)-1\n",
    "    "
   ]
  },
  {
   "cell_type": "code",
   "execution_count": 121,
   "metadata": {},
   "outputs": [
    {
     "data": {
      "text/plain": [
       "[2, 3, 5, 7, 11]"
      ]
     },
     "execution_count": 121,
     "metadata": {},
     "output_type": "execute_result"
    }
   ],
   "source": [
    "conteoPrimos(500)"
   ]
  },
  {
   "cell_type": "code",
   "execution_count": 104,
   "metadata": {},
   "outputs": [
    {
     "data": {
      "text/plain": [
       "[]"
      ]
     },
     "execution_count": 104,
     "metadata": {},
     "output_type": "execute_result"
    }
   ],
   "source": [
    "list(range(3,2,2))"
   ]
  },
  {
   "cell_type": "code",
   "execution_count": 70,
   "metadata": {},
   "outputs": [
    {
     "data": {
      "text/plain": [
       "[]"
      ]
     },
     "execution_count": 70,
     "metadata": {},
     "output_type": "execute_result"
    }
   ],
   "source": [
    "quitarMultiplos(2, [2])"
   ]
  },
  {
   "cell_type": "code",
   "execution_count": 78,
   "metadata": {},
   "outputs": [
    {
     "data": {
      "text/plain": [
       "0"
      ]
     },
     "execution_count": 78,
     "metadata": {},
     "output_type": "execute_result"
    }
   ],
   "source": [
    "len([])"
   ]
  },
  {
   "cell_type": "code",
   "execution_count": 122,
   "metadata": {},
   "outputs": [],
   "source": [
    "a = [1,2,3,4]"
   ]
  },
  {
   "cell_type": "code",
   "execution_count": 126,
   "metadata": {},
   "outputs": [
    {
     "data": {
      "text/plain": [
       "[1, 2, 3]"
      ]
     },
     "execution_count": 126,
     "metadata": {},
     "output_type": "execute_result"
    }
   ],
   "source": [
    "a[:len(a)-1]"
   ]
  },
  {
   "cell_type": "code",
   "execution_count": null,
   "metadata": {},
   "outputs": [],
   "source": []
  }
 ],
 "metadata": {
  "kernelspec": {
   "display_name": "Python 3",
   "language": "python",
   "name": "python3"
  },
  "language_info": {
   "codemirror_mode": {
    "name": "ipython",
    "version": 3
   },
   "file_extension": ".py",
   "mimetype": "text/x-python",
   "name": "python",
   "nbconvert_exporter": "python",
   "pygments_lexer": "ipython3",
   "version": "3.7.1"
  }
 },
 "nbformat": 4,
 "nbformat_minor": 2
}
